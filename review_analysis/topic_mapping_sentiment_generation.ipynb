{
 "cells": [
  {
   "cell_type": "markdown",
   "id": "45f34600",
   "metadata": {},
   "source": [
    "# Getting insight from customer reviews using Amazon Comprehend"
   ]
  },
  {
   "cell_type": "markdown",
   "id": "bf36e72d",
   "metadata": {},
   "source": [
    "## Comprehend Topic Mapping & Sentiment Analysis Notebook\n",
    "In the previous Notebook we performed topic modeling job. Now in this Notebook we will use the output of the topic modeling job and map it with the topic names. We also understand how sentiment of the reviews are w.r.t to the item and the associated topic to have an aggregated view\n",
    "\n",
    "\n",
    "\n"
   ]
  },
  {
   "cell_type": "markdown",
   "id": "44818f98",
   "metadata": {},
   "source": [
    "### Import Libararies"
   ]
  },
  {
   "cell_type": "code",
   "execution_count": null,
   "id": "af38c3ff",
   "metadata": {},
   "outputs": [],
   "source": [
    "# Library imports\n",
    "import pandas as pd\n",
    "import boto3\n",
    "from collections import Counter\n",
    "\n",
    "# boto3 session to access service\n",
    "session = boto3.Session()\n",
    "comprehend = boto3.client(  'comprehend',\n",
    "                            region_name=session.region_name)"
   ]
  },
  {
   "cell_type": "markdown",
   "id": "183c5f85",
   "metadata": {},
   "source": [
    "### Input Paths"
   ]
  },
  {
   "cell_type": "code",
   "execution_count": null,
   "id": "5006d430",
   "metadata": {},
   "outputs": [],
   "source": [
    "# S3 bucket\n",
    "BUCKET = 'clothing-shoe-jewel-tm-blog'\n",
    "# Final dataframe on S3 where the topics/sentiments are joined with the original dataset\n",
    "S3_FEEDBACK_TOPICS = f's3://{BUCKET}/out/FinalDataframe.csv'"
   ]
  },
  {
   "cell_type": "markdown",
   "id": "df260363",
   "metadata": {},
   "source": [
    "### Output paths"
   ]
  },
  {
   "cell_type": "code",
   "execution_count": null,
   "id": "50adada3",
   "metadata": {},
   "outputs": [],
   "source": [
    "# Final raw output and final aggregated version of the output\n",
    "S3_RAW_OUTPUT = f's3://{BUCKET}/out/_RawOutput.csv'\n",
    "S3_OUTPUT = f's3://{BUCKET}/out/_TopicKeySentiment.csv'"
   ]
  },
  {
   "cell_type": "markdown",
   "id": "703ab209",
   "metadata": {},
   "source": [
    "## Variables"
   ]
  },
  {
   "cell_type": "code",
   "execution_count": null,
   "id": "d3a48893",
   "metadata": {},
   "outputs": [],
   "source": [
    "# Top 3 topics per product will be aggregated\n",
    "TOP_TOPICS = 3\n",
    "\n",
    "# Working on English language only. \n",
    "language_code = 'en'"
   ]
  },
  {
   "cell_type": "code",
   "execution_count": null,
   "id": "7bc371ff",
   "metadata": {},
   "outputs": [],
   "source": [
    "# Topic names for 5 topics created by human-in-the-loop or SME feed\n",
    "topicMaps = {\n",
    "    0: 'Product comfortability',\n",
    "    1: 'Product Quality and Price',\n",
    "    2: 'Product Size',\n",
    "    3: 'Product Color',\n",
    "    4: 'Product Return',\n",
    "}"
   ]
  },
  {
   "cell_type": "markdown",
   "id": "209b2bb8",
   "metadata": {},
   "source": [
    "## Processing doc-topics to list document-topic no. mapping"
   ]
  },
  {
   "cell_type": "code",
   "execution_count": null,
   "id": "a7df9828",
   "metadata": {},
   "outputs": [],
   "source": [
    "# Loading documents and topics assigned to each of them by Comprehend\n",
    "docTopics = pd.read_csv('comprehend-out/doc-topics.csv')\n",
    "docTopics.head()"
   ]
  },
  {
   "cell_type": "code",
   "execution_count": null,
   "id": "c61463aa",
   "metadata": {},
   "outputs": [],
   "source": [
    "# Creating a field with doc number. \n",
    "# This doc number is the line number of the input file to Comprehend.\n",
    "docTopics['doc'] = docTopics['docname'].str.split(':').str[1]\n",
    "docTopics['doc'] = docTopics['doc'].astype(int)\n",
    "docTopics.head()"
   ]
  },
  {
   "cell_type": "markdown",
   "id": "a4025bd4",
   "metadata": {},
   "source": [
    "## Generate topic names from topic terms"
   ]
  },
  {
   "cell_type": "code",
   "execution_count": null,
   "id": "38565578",
   "metadata": {},
   "outputs": [],
   "source": [
    "# Load topics and associated terms\n",
    "topicTerms = pd.read_csv('comprehend-out/topic-terms.csv')"
   ]
  },
  {
   "cell_type": "code",
   "execution_count": null,
   "id": "565aa54b",
   "metadata": {},
   "outputs": [],
   "source": [
    "# Consolidate terms for each topic\n",
    "aggregatedTerms = topicTerms.groupby('topic')['term'].aggregate(lambda term: term.unique().tolist()).reset_index()"
   ]
  },
  {
   "cell_type": "code",
   "execution_count": null,
   "id": "9f88db1f",
   "metadata": {},
   "outputs": [],
   "source": [
    "# Sneak peek\n",
    "aggregatedTerms.head(10)"
   ]
  },
  {
   "cell_type": "code",
   "execution_count": null,
   "id": "5520df95",
   "metadata": {},
   "outputs": [],
   "source": [
    "# Map topic names to topic number\n",
    "aggregatedTerms['TopicNames'] = aggregatedTerms['topic'].apply(lambda x:topicMaps[x])"
   ]
  },
  {
   "cell_type": "code",
   "execution_count": null,
   "id": "75ab6641",
   "metadata": {},
   "outputs": [],
   "source": [
    "# Sneak peek\n",
    "aggregatedTerms.head(10)"
   ]
  },
  {
   "cell_type": "markdown",
   "id": "db82e49c",
   "metadata": {},
   "source": [
    "## Load main feedback data"
   ]
  },
  {
   "cell_type": "code",
   "execution_count": null,
   "id": "33c02ade",
   "metadata": {},
   "outputs": [],
   "source": [
    "# Load final dataframe where Comprehend results will be merged to \n",
    "feedbackTopics = pd.read_csv(S3_FEEDBACK_TOPICS)"
   ]
  },
  {
   "cell_type": "markdown",
   "id": "ee54f6f9",
   "metadata": {},
   "source": [
    "## Adding back topic number, terms, and names to main data"
   ]
  },
  {
   "cell_type": "code",
   "execution_count": null,
   "id": "74f22148",
   "metadata": {},
   "outputs": [],
   "source": [
    "# Joining topic numbers to main data\n",
    "# The index of feedbackTopics is referring to doc field of docTopics dataframe\n",
    "feedbackTopics = pd.merge(feedbackTopics, \n",
    "                          docTopics, \n",
    "                          left_index=True, \n",
    "                          right_on='doc', \n",
    "                          how='left')"
   ]
  },
  {
   "cell_type": "code",
   "execution_count": null,
   "id": "4a236388",
   "metadata": {},
   "outputs": [],
   "source": [
    "# Reviews will now have topic numbers, associated terms and topics names\n",
    "feedbackTopics = feedbackTopics.merge(aggregatedTerms, \n",
    "                                      on='topic', \n",
    "                                      how='left')\n",
    "feedbackTopics.head()"
   ]
  },
  {
   "cell_type": "markdown",
   "id": "057e64a6",
   "metadata": {},
   "source": [
    "## Generate sentiments for each feedback"
   ]
  },
  {
   "cell_type": "code",
   "execution_count": null,
   "id": "7a340619",
   "metadata": {},
   "outputs": [],
   "source": [
    "# Function for detecting sentiment\n",
    "def detect_sentiment(text, language_code):\n",
    "    comprehend_json_out = comprehend.detect_sentiment(Text=text, LanguageCode=language_code)\n",
    "    return comprehend_json_out"
   ]
  },
  {
   "cell_type": "code",
   "execution_count": null,
   "id": "de549cdf",
   "metadata": {},
   "outputs": [],
   "source": [
    "# Comprehend output for sentiment in raw json \n",
    "feedbackTopics['comprehend_sentiment_json_out'] = feedbackTopics['reviewText_cleaned'].apply(lambda x: detect_sentiment(x, language_code))"
   ]
  },
  {
   "cell_type": "code",
   "execution_count": null,
   "id": "3e23f0ab",
   "metadata": {},
   "outputs": [],
   "source": [
    "# Extracting the exact sentiment from raw Comprehend Json\n",
    "feedbackTopics['sentiment'] = feedbackTopics['comprehend_sentiment_json_out'].apply(lambda x: x['Sentiment'])"
   ]
  },
  {
   "cell_type": "code",
   "execution_count": null,
   "id": "41d1112b",
   "metadata": {},
   "outputs": [],
   "source": [
    "# Sneak peek\n",
    "feedbackTopics.head(2)"
   ]
  },
  {
   "cell_type": "markdown",
   "id": "e5c474c8",
   "metadata": {},
   "source": [
    "## Combining Topics and Sentiments"
   ]
  },
  {
   "cell_type": "code",
   "execution_count": null,
   "id": "5950bca0",
   "metadata": {},
   "outputs": [],
   "source": [
    "# Creating a composite key of topic name and sentiment.\n",
    "# This is because we are counting frequency of this combination.\n",
    "feedbackTopics['TopicSentiment'] = feedbackTopics['TopicNames'] + '_' + feedbackTopics['sentiment']"
   ]
  },
  {
   "cell_type": "code",
   "execution_count": null,
   "id": "81c49f1b",
   "metadata": {},
   "outputs": [],
   "source": [
    "# Sneak peek\n",
    "feedbackTopics.head(2)"
   ]
  },
  {
   "cell_type": "markdown",
   "id": "ff4a32b9",
   "metadata": {},
   "source": [
    "## Aggregate topics and sentiment for each item"
   ]
  },
  {
   "cell_type": "code",
   "execution_count": null,
   "id": "00d5600b",
   "metadata": {},
   "outputs": [],
   "source": [
    "# Create product id group\n",
    "asinWiseDF = feedbackTopics.groupby('asin')"
   ]
  },
  {
   "cell_type": "code",
   "execution_count": null,
   "id": "7c872d17",
   "metadata": {},
   "outputs": [],
   "source": [
    "# Each product now has a list of topics and sentiment combo (topics can appear multiple times)\n",
    "topicDF = asinWiseDF['TopicSentiment'].apply(lambda x:list(x)).reset_index()"
   ]
  },
  {
   "cell_type": "code",
   "execution_count": null,
   "id": "cfec30f4",
   "metadata": {},
   "outputs": [],
   "source": [
    "# Count appreances of topics-sentiment combo for product\n",
    "topicDF['TopTopics'] = topicDF['TopicSentiment'].apply(Counter)"
   ]
  },
  {
   "cell_type": "code",
   "execution_count": null,
   "id": "9b181786",
   "metadata": {},
   "outputs": [],
   "source": [
    "# Sorting topics-sentiment combo based on their appearance\n",
    "topicDF['TopTopics'] = topicDF['TopTopics'].apply(lambda x: sorted(x, key=x.get, reverse=True))"
   ]
  },
  {
   "cell_type": "code",
   "execution_count": null,
   "id": "5d9f587e",
   "metadata": {},
   "outputs": [],
   "source": [
    "# Select Top k topics-sentiment combo for each product/review\n",
    "topicDF['TopTopics'] = topicDF['TopTopics'].apply(lambda x: x[:TOP_TOPICS])"
   ]
  },
  {
   "cell_type": "code",
   "execution_count": null,
   "id": "cca6ae70",
   "metadata": {},
   "outputs": [],
   "source": [
    "# Sneak peek\n",
    "topicDF.head()"
   ]
  },
  {
   "cell_type": "code",
   "execution_count": null,
   "id": "d0b12569",
   "metadata": {},
   "outputs": [],
   "source": [
    "# Saving topics-sentiment combo for each item locally\n",
    "topicDF.to_csv('data_out/topic_sentiment.csv', index=False)"
   ]
  },
  {
   "cell_type": "code",
   "execution_count": null,
   "id": "a5cca400",
   "metadata": {},
   "outputs": [],
   "source": [
    "# Loading product metadata to add to reviews and their Comprehend information\n",
    "meta_data = pd.read_csv('data/meta_data.csv')"
   ]
  },
  {
   "cell_type": "code",
   "execution_count": null,
   "id": "909c813d",
   "metadata": {},
   "outputs": [],
   "source": [
    "# Adding the topic-sentiment combo back to product metadata\n",
    "finalDF = topicDF.merge(meta_data, on='asin', how='left')"
   ]
  },
  {
   "cell_type": "code",
   "execution_count": null,
   "id": "4e982061",
   "metadata": {},
   "outputs": [],
   "source": [
    "# Only selecting a subset of fields\n",
    "finalDF = finalDF[['asin', 'TopTopics', 'category', 'title']]"
   ]
  },
  {
   "cell_type": "code",
   "execution_count": null,
   "id": "b563e5bd",
   "metadata": {},
   "outputs": [],
   "source": [
    "# Frequency of sentiments for all reviews\n",
    "feedbackTopics['sentiment'].value_counts()"
   ]
  },
  {
   "cell_type": "code",
   "execution_count": null,
   "id": "b5519bfc",
   "metadata": {},
   "outputs": [],
   "source": [
    "# Saving the final output locally\n",
    "finalDF.to_csv('data_out/reviewTopicsSentiments.csv', index=False)"
   ]
  },
  {
   "cell_type": "markdown",
   "id": "cc76ee18",
   "metadata": {},
   "source": []
  }
 ],
 "metadata": {
  "kernelspec": {
   "display_name": "Python 3.9.10 64-bit",
   "language": "python",
   "name": "python3"
  },
  "language_info": {
   "codemirror_mode": {
    "name": "ipython",
    "version": 3
   },
   "file_extension": ".py",
   "mimetype": "text/x-python",
   "name": "python",
   "nbconvert_exporter": "python",
   "pygments_lexer": "ipython3",
   "version": "3.9.10"
  },
  "vscode": {
   "interpreter": {
    "hash": "b0fa6594d8f4cbf19f97940f81e996739fb7646882a419484c72d19e05852a7e"
   }
  }
 },
 "nbformat": 4,
 "nbformat_minor": 5
}
